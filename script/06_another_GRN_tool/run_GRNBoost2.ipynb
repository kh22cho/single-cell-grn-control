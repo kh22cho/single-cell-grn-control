{
 "cells": [
  {
   "cell_type": "code",
   "execution_count": 1,
   "id": "6a43d9ca",
   "metadata": {},
   "outputs": [],
   "source": [
    "import os\n",
    "import pandas as pd\n",
    "\n",
    "from arboreto.algo import grnboost2, genie3\n",
    "from arboreto.utils import load_tf_names\n",
    "from collections import defaultdict\n",
    "\n",
    "import scanpy as sc"
   ]
  },
  {
   "cell_type": "code",
   "execution_count": null,
   "id": "3b18210e",
   "metadata": {},
   "outputs": [
    {
     "name": "stdout",
     "output_type": "stream",
     "text": [
      "------------phase2------------\n",
      "Ectoderm in phase2\n",
      "Ectoderm in phase2 SKIP!!\n",
      "Primordial_Germ_cells in phase2\n",
      "Primordial_Germ_cells in phase2 SKIP!!\n",
      "Other_Mesendoderm in phase2\n",
      "load complete\n",
      "normalize complete\n"
     ]
    },
    {
     "name": "stderr",
     "output_type": "stream",
     "text": [
      "/home/Data_Drive_8TB/khcho/.conda/envs/tenet/lib/python3.10/site-packages/distributed/client.py:3169: UserWarning: Sending large graph of size 21.02 MiB.\n",
      "This may cause some slowdown.\n",
      "Consider scattering data ahead of time and using futures.\n",
      "  warnings.warn(\n"
     ]
    }
   ],
   "source": [
    "grn_path = '../../data/raw_data'\n",
    "\n",
    "net_dic = defaultdict(dict)\n",
    "phase_list = os.listdir(grn_path)\n",
    "\n",
    "tf_names = load_tf_names('../../data/tf_list/GO_symbol_zebrafish_regulation_of_transcription+sequence-specific_DNA_binding_list.txt')\n",
    "\n",
    "for phase in phase_list:\n",
    "    phase_net_list = os.listdir(f'{grn_path}/{phase}/')\n",
    "    print(f'------------{phase}------------')\n",
    "    for net_file in phase_net_list:\n",
    "        net_name = net_file.replace('.ncol', '')\n",
    "        save_name = f'{net_name}.csv'\n",
    "        print(f'{net_name} in {phase}')\n",
    "        \n",
    "        if (save_name in os.listdir(f'../../data/result/GRNBoost2/{phase}/')) == True:\n",
    "            print(f'{net_name} in {phase} SKIP!!')\n",
    "            continue    \n",
    "        \n",
    "        ex_matrix = pd.read_csv(f'{grn_path}/{phase}/{net_file}')\n",
    "        \n",
    "        print('load complete')\n",
    "        \n",
    "        adata = sc.AnnData(ex_matrix.values, obs=None, var=pd.DataFrame(index=ex_matrix.columns))\n",
    "        sc.pp.normalize_total(adata, target_sum=1e4)  # 셀별 총카운트 1e4로 보정\n",
    "        sc.pp.log1p(adata)\n",
    "        ex_matrix_norm = pd.DataFrame(adata.X, columns=ex_matrix.columns, index=ex_matrix.index)\n",
    "        \n",
    "        print('normalize complete')\n",
    "        \n",
    "        network = grnboost2(expression_data=ex_matrix_norm,\n",
    "                    tf_names=tf_names)\n",
    "        \n",
    "        network.to_csv(f'../../data/result/GRNBoost2/{phase}/{save_name}')"
   ]
  },
  {
   "cell_type": "code",
   "execution_count": null,
   "id": "3fb9df3b",
   "metadata": {},
   "outputs": [],
   "source": []
  }
 ],
 "metadata": {
  "kernelspec": {
   "display_name": "tenet",
   "language": "python",
   "name": "python3"
  },
  "language_info": {
   "codemirror_mode": {
    "name": "ipython",
    "version": 3
   },
   "file_extension": ".py",
   "mimetype": "text/x-python",
   "name": "python",
   "nbconvert_exporter": "python",
   "pygments_lexer": "ipython3",
   "version": "3.10.12"
  }
 },
 "nbformat": 4,
 "nbformat_minor": 5
}
